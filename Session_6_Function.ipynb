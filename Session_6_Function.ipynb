{
  "nbformat": 4,
  "nbformat_minor": 0,
  "metadata": {
    "colab": {
      "provenance": [],
      "authorship_tag": "ABX9TyOfN85uFnRoHMJwLuzP5Efu",
      "include_colab_link": true
    },
    "kernelspec": {
      "name": "python3",
      "display_name": "Python 3"
    },
    "language_info": {
      "name": "python"
    }
  },
  "cells": [
    {
      "cell_type": "markdown",
      "metadata": {
        "id": "view-in-github",
        "colab_type": "text"
      },
      "source": [
        "<a href=\"https://colab.research.google.com/github/Ghtanisuresh/Python-Learning/blob/main/Session_6_Function.ipynb\" target=\"_parent\"><img src=\"https://colab.research.google.com/assets/colab-badge.svg\" alt=\"Open In Colab\"/></a>"
      ]
    },
    {
      "cell_type": "markdown",
      "source": [
        "# Functions\n",
        "a. Built in function\n",
        "b. User defined function\n",
        "\n",
        "Components of Function:\n",
        "\n",
        "def function_name():\n",
        "  \"\"\"\n",
        "  Docstring\n",
        "  \"\"\"\n",
        "  function body\n",
        "  return statement\n",
        "\n",
        "function_name() # function call\n"
      ],
      "metadata": {
        "id": "PH57621iGeay"
      }
    },
    {
      "cell_type": "markdown",
      "source": [
        "Let's create a function (with docstring)"
      ],
      "metadata": {
        "id": "K5Q06BqMIT67"
      }
    },
    {
      "cell_type": "code",
      "source": [
        "def is_even(num):\n",
        "  \"\"\"\n",
        "  This function checks whether a number is even or odd\n",
        "  input - any valid integer\n",
        "  output- odd or even\n",
        "  created on -06/26/2024\n",
        "  \"\"\"\n",
        "  if num % 2 == 0:\n",
        "    return 'even'\n",
        "  else:\n",
        "    return 'odd'\n",
        "\n",
        "#function call\n",
        "is_even(100)"
      ],
      "metadata": {
        "colab": {
          "base_uri": "https://localhost:8080/",
          "height": 36
        },
        "id": "Wik7jslkGFWJ",
        "outputId": "9b3439e0-1002-4363-a196-1653dd9e181b"
      },
      "execution_count": null,
      "outputs": [
        {
          "output_type": "execute_result",
          "data": {
            "text/plain": [
              "'even'"
            ],
            "application/vnd.google.colaboratory.intrinsic+json": {
              "type": "string"
            }
          },
          "metadata": {},
          "execution_count": 2
        }
      ]
    },
    {
      "cell_type": "code",
      "source": [
        "for i in range(1, 11):\n",
        "  x = is_even(i)\n",
        "  print(x)"
      ],
      "metadata": {
        "colab": {
          "base_uri": "https://localhost:8080/"
        },
        "id": "Zjb0Ha9tGFOg",
        "outputId": "d86b24e0-615b-4bbf-e7c8-ea17ee1f415b"
      },
      "execution_count": null,
      "outputs": [
        {
          "output_type": "stream",
          "name": "stdout",
          "text": [
            "odd\n",
            "even\n",
            "odd\n",
            "even\n",
            "odd\n",
            "even\n",
            "odd\n",
            "even\n",
            "odd\n",
            "even\n"
          ]
        }
      ]
    },
    {
      "cell_type": "markdown",
      "source": [
        "2 point of views:\n",
        "* Senior creates a function\n",
        "* Junior uses that function\n",
        "\n",
        "Scenario:\n",
        "\n",
        "Usually, those who makes a function s/he needs to be conscisous not to make a function reusablity wrongly.\n",
        "Suppose, senior made a __function is_even(num)__ and junior staff call that function using: __is_even('suresh')__. Then this is going to be headache for the junior as the senior who made a function has not implemented a proper strategy to properly make that function workable.\n",
        "\n",
        "The other option is to use try and catch method (later)\n",
        "\n",
        "\n"
      ],
      "metadata": {
        "id": "tpFGUAk8Le9I"
      }
    },
    {
      "cell_type": "code",
      "source": [
        "# Above case scenario can be made correct by\n",
        "\n",
        "def is_even(num):\n",
        "  if type(num) == int:\n",
        "    if num % 2 == 0:\n",
        "      return 'even'\n",
        "    else:\n",
        "      return 'odd'\n",
        "  else:\n",
        "    return 'Please enter an integer'\n",
        "\n",
        "\n",
        "#function call\n",
        "\n",
        "is_even(\"suresh\")"
      ],
      "metadata": {
        "colab": {
          "base_uri": "https://localhost:8080/",
          "height": 36
        },
        "id": "CgElMXGKGFHJ",
        "outputId": "821d6f01-e5b2-482e-ff03-860fe9b5557b"
      },
      "execution_count": null,
      "outputs": [
        {
          "output_type": "execute_result",
          "data": {
            "text/plain": [
              "'Please enter an integer'"
            ],
            "application/vnd.google.colaboratory.intrinsic+json": {
              "type": "string"
            }
          },
          "metadata": {},
          "execution_count": 7
        }
      ]
    },
    {
      "cell_type": "markdown",
      "source": [
        "# Parameters Vs Arguments\n",
        "\n",
        "__Parameters__ are values enclosed inside a parenthesis at function creation time.\n",
        "__Arguments__ are those values which are used during function call.\n",
        "\n",
        "Types of Arguments:\n",
        "* Default Argument\n",
        "* Positional Argument\n",
        "* Keyword Argument"
      ],
      "metadata": {
        "id": "MxsCkPuQQepn"
      }
    },
    {
      "cell_type": "code",
      "source": [
        "# such as:\n",
        "def power(a, b):\n",
        "  return a*b\n",
        "\n",
        "power(2, 3)"
      ],
      "metadata": {
        "colab": {
          "base_uri": "https://localhost:8080/"
        },
        "id": "qxYKZFkaGE_S",
        "outputId": "2abccbee-594b-4332-de69-d82dd9dd3464"
      },
      "execution_count": null,
      "outputs": [
        {
          "output_type": "execute_result",
          "data": {
            "text/plain": [
              "6"
            ]
          },
          "metadata": {},
          "execution_count": 8
        }
      ]
    },
    {
      "cell_type": "code",
      "source": [
        "# if we give not appropriate arguments while calling, it will be problematic\n",
        "power(2)"
      ],
      "metadata": {
        "colab": {
          "base_uri": "https://localhost:8080/",
          "height": 163
        },
        "id": "yct-oBsDGE3r",
        "outputId": "f2f02006-4940-42be-e688-958d09619da1"
      },
      "execution_count": null,
      "outputs": [
        {
          "output_type": "error",
          "ename": "TypeError",
          "evalue": "power() missing 1 required positional argument: 'b'",
          "traceback": [
            "\u001b[0;31m---------------------------------------------------------------------------\u001b[0m",
            "\u001b[0;31mTypeError\u001b[0m                                 Traceback (most recent call last)",
            "\u001b[0;32m<ipython-input-9-437386daa52b>\u001b[0m in \u001b[0;36m<cell line: 2>\u001b[0;34m()\u001b[0m\n\u001b[1;32m      1\u001b[0m \u001b[0;31m# if we give not appropriate arguments while calling, it will be problematic\u001b[0m\u001b[0;34m\u001b[0m\u001b[0;34m\u001b[0m\u001b[0m\n\u001b[0;32m----> 2\u001b[0;31m \u001b[0mpower\u001b[0m\u001b[0;34m(\u001b[0m\u001b[0;36m2\u001b[0m\u001b[0;34m)\u001b[0m\u001b[0;34m\u001b[0m\u001b[0;34m\u001b[0m\u001b[0m\n\u001b[0m",
            "\u001b[0;31mTypeError\u001b[0m: power() missing 1 required positional argument: 'b'"
          ]
        }
      ]
    },
    {
      "cell_type": "code",
      "source": [
        "# Therefore, in above scenario, we can use default argument by assigning value in the parameter directly, if somehow junior\n",
        "# programmer doesn't call the function with proper argument\n",
        "\n",
        "def power(a, b =2):\n",
        "  return a **b\n",
        "\n",
        "power(2)\n"
      ],
      "metadata": {
        "colab": {
          "base_uri": "https://localhost:8080/"
        },
        "id": "8kXe-ooZGEvy",
        "outputId": "c970e1bb-45a6-4fcb-ab76-3e3e29cad50d"
      },
      "execution_count": null,
      "outputs": [
        {
          "output_type": "execute_result",
          "data": {
            "text/plain": [
              "4"
            ]
          },
          "metadata": {},
          "execution_count": 14
        }
      ]
    },
    {
      "cell_type": "code",
      "source": [
        "# if we call with new value, then it gives output according to new argument\n",
        "power(2, 4)"
      ],
      "metadata": {
        "colab": {
          "base_uri": "https://localhost:8080/"
        },
        "id": "rxHRiKsFGEme",
        "outputId": "ebe89892-d2f4-440c-f303-380c6da9f838"
      },
      "execution_count": null,
      "outputs": [
        {
          "output_type": "execute_result",
          "data": {
            "text/plain": [
              "16"
            ]
          },
          "metadata": {},
          "execution_count": 15
        }
      ]
    },
    {
      "cell_type": "markdown",
      "source": [
        "__Positional Arguments__\n",
        "\n",
        "It's not completely new, it is just a default arguments, which aligns the position of arguments while creating and using."
      ],
      "metadata": {
        "id": "QKB0ovrkWRuB"
      }
    },
    {
      "cell_type": "code",
      "source": [
        "power(2, 3)"
      ],
      "metadata": {
        "colab": {
          "base_uri": "https://localhost:8080/"
        },
        "id": "1OGECZf7GEfE",
        "outputId": "d858d93c-549e-4cff-c9e3-7af694f5cb16"
      },
      "execution_count": null,
      "outputs": [
        {
          "output_type": "execute_result",
          "data": {
            "text/plain": [
              "8"
            ]
          },
          "metadata": {},
          "execution_count": 16
        }
      ]
    },
    {
      "cell_type": "code",
      "source": [
        "power(3, 2)\n",
        "\n",
        "#keyword argument\n",
        "power(b = 3, a = 2)"
      ],
      "metadata": {
        "colab": {
          "base_uri": "https://localhost:8080/"
        },
        "id": "2EKqwdmHGEYw",
        "outputId": "63765c53-f312-4338-cac1-4fd975c58c8d"
      },
      "execution_count": null,
      "outputs": [
        {
          "output_type": "execute_result",
          "data": {
            "text/plain": [
              "8"
            ]
          },
          "metadata": {},
          "execution_count": 18
        }
      ]
    },
    {
      "cell_type": "markdown",
      "source": [
        "__* args and **kwargs__ **bold text**__\n",
        "\n",
        "* are special python keywords that are used to pass the variable length of arguments to a function."
      ],
      "metadata": {
        "id": "yhYhnUmLXVkH"
      }
    },
    {
      "cell_type": "code",
      "source": [
        "# allows us to a pass a variable number of non-keyword arguments to a function.\n",
        "\n",
        "#first simple:\n",
        "def multiply(a, b):\n",
        "  return a*b\n",
        "\n",
        "multiply(2, 3)"
      ],
      "metadata": {
        "colab": {
          "base_uri": "https://localhost:8080/"
        },
        "id": "CLDYHn75XJEk",
        "outputId": "b53bfacd-7a3e-482c-de79-c40549bd5e0a"
      },
      "execution_count": null,
      "outputs": [
        {
          "output_type": "execute_result",
          "data": {
            "text/plain": [
              "6"
            ]
          },
          "metadata": {},
          "execution_count": 19
        }
      ]
    },
    {
      "cell_type": "code",
      "source": [
        "#Now, if we need three numbers, we do\n",
        "def multiply(a, b, c):\n",
        "  return a*b*c\n",
        "\n",
        "multiply(2, 3, 4)"
      ],
      "metadata": {
        "colab": {
          "base_uri": "https://localhost:8080/"
        },
        "id": "JrpmOnkmGESO",
        "outputId": "1a9b8407-002e-409d-91ce-3faa192f860e"
      },
      "execution_count": null,
      "outputs": [
        {
          "output_type": "execute_result",
          "data": {
            "text/plain": [
              "24"
            ]
          },
          "metadata": {},
          "execution_count": 20
        }
      ]
    },
    {
      "cell_type": "code",
      "source": [
        "# it is not possible everytime to add arguments. So, the concept to use *args\n",
        "# this is interesting: this * conversts all the values in a tuple.\n",
        "def multiply(*args):\n",
        "  product = 1\n",
        "\n",
        "  for i in args:\n",
        "    product *=  i\n",
        "  print(args)\n",
        "  return product\n",
        "\n",
        "multiply(2, 3, 4)"
      ],
      "metadata": {
        "colab": {
          "base_uri": "https://localhost:8080/"
        },
        "id": "RhiR8EMtGEKi",
        "outputId": "0805d81f-8b99-4289-d6f1-6516cdbd4798"
      },
      "execution_count": null,
      "outputs": [
        {
          "output_type": "stream",
          "name": "stdout",
          "text": [
            "(2, 3, 4)\n"
          ]
        },
        {
          "output_type": "execute_result",
          "data": {
            "text/plain": [
              "24"
            ]
          },
          "metadata": {},
          "execution_count": 31
        }
      ]
    },
    {
      "cell_type": "code",
      "source": [
        "multiply(23, 4, 1, 0)"
      ],
      "metadata": {
        "colab": {
          "base_uri": "https://localhost:8080/"
        },
        "id": "EBmRIZ6pGECo",
        "outputId": "4d8909a5-cc4a-45b4-fd43-08b060a33674"
      },
      "execution_count": null,
      "outputs": [
        {
          "output_type": "stream",
          "name": "stdout",
          "text": [
            "(23, 4, 1, 0)\n"
          ]
        },
        {
          "output_type": "execute_result",
          "data": {
            "text/plain": [
              "0"
            ]
          },
          "metadata": {},
          "execution_count": 26
        }
      ]
    },
    {
      "cell_type": "code",
      "source": [
        "print(is_even.__doc__)"
      ],
      "metadata": {
        "colab": {
          "base_uri": "https://localhost:8080/"
        },
        "id": "55ctSnNWGD60",
        "outputId": "a538eb0c-b4b2-4506-d45f-003f757709fd"
      },
      "execution_count": null,
      "outputs": [
        {
          "output_type": "stream",
          "name": "stdout",
          "text": [
            "None\n"
          ]
        }
      ]
    },
    {
      "cell_type": "markdown",
      "source": [
        "# Kwargs\n",
        "\n",
        "**kwargs allows us to pass any number of keyword arguments.\n"
      ],
      "metadata": {
        "id": "xwJg46mHYzd9"
      }
    },
    {
      "cell_type": "code",
      "source": [],
      "metadata": {
        "id": "NMbhAaMsGD0S"
      },
      "execution_count": null,
      "outputs": []
    },
    {
      "cell_type": "code",
      "source": [],
      "metadata": {
        "id": "QibGuuEvGC8t"
      },
      "execution_count": null,
      "outputs": []
    },
    {
      "cell_type": "code",
      "source": [],
      "metadata": {
        "id": "SR0y1NHCGCm8"
      },
      "execution_count": null,
      "outputs": []
    },
    {
      "cell_type": "code",
      "execution_count": null,
      "metadata": {
        "id": "XhpBjp_gFw9c"
      },
      "outputs": [],
      "source": []
    }
  ]
}