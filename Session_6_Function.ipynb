{
  "nbformat": 4,
  "nbformat_minor": 0,
  "metadata": {
    "colab": {
      "provenance": [],
      "authorship_tag": "ABX9TyPWrJfFQ+L9ZiQDZkS6IJCC",
      "include_colab_link": true
    },
    "kernelspec": {
      "name": "python3",
      "display_name": "Python 3"
    },
    "language_info": {
      "name": "python"
    }
  },
  "cells": [
    {
      "cell_type": "markdown",
      "metadata": {
        "id": "view-in-github",
        "colab_type": "text"
      },
      "source": [
        "<a href=\"https://colab.research.google.com/github/Ghtanisuresh/Python-Learning/blob/main/Session_6_Function.ipynb\" target=\"_parent\"><img src=\"https://colab.research.google.com/assets/colab-badge.svg\" alt=\"Open In Colab\"/></a>"
      ]
    },
    {
      "cell_type": "markdown",
      "source": [
        "# Functions\n",
        "a. Built in function\n",
        "b. User defined function\n",
        "\n",
        "Components of Function:\n",
        "\n",
        "def function_name():\n",
        "  \"\"\"\n",
        "  Docstring\n",
        "  \"\"\"\n",
        "  function body\n",
        "  return statement\n",
        "\n",
        "function_name() # function call\n"
      ],
      "metadata": {
        "id": "PH57621iGeay"
      }
    },
    {
      "cell_type": "markdown",
      "source": [
        "Let's create a function (with docstring)"
      ],
      "metadata": {
        "id": "K5Q06BqMIT67"
      }
    },
    {
      "cell_type": "code",
      "source": [
        "def is_even(num):\n",
        "  \"\"\"\n",
        "  This function checks whether a number is even or odd\n",
        "  input - any valid integer\n",
        "  output- odd or even\n",
        "  created on -06/26/2024\n",
        "  \"\"\"\n",
        "  if num % 2 == 0:\n",
        "    return 'even'\n",
        "  else:\n",
        "    return 'odd'\n",
        "\n",
        "#function call\n",
        "is_even(100)"
      ],
      "metadata": {
        "colab": {
          "base_uri": "https://localhost:8080/",
          "height": 36
        },
        "id": "Wik7jslkGFWJ",
        "outputId": "9b3439e0-1002-4363-a196-1653dd9e181b"
      },
      "execution_count": null,
      "outputs": [
        {
          "output_type": "execute_result",
          "data": {
            "text/plain": [
              "'even'"
            ],
            "application/vnd.google.colaboratory.intrinsic+json": {
              "type": "string"
            }
          },
          "metadata": {},
          "execution_count": 2
        }
      ]
    },
    {
      "cell_type": "code",
      "source": [
        "for i in range(1, 11):\n",
        "  x = is_even(i)\n",
        "  print(x)"
      ],
      "metadata": {
        "colab": {
          "base_uri": "https://localhost:8080/"
        },
        "id": "Zjb0Ha9tGFOg",
        "outputId": "d86b24e0-615b-4bbf-e7c8-ea17ee1f415b"
      },
      "execution_count": null,
      "outputs": [
        {
          "output_type": "stream",
          "name": "stdout",
          "text": [
            "odd\n",
            "even\n",
            "odd\n",
            "even\n",
            "odd\n",
            "even\n",
            "odd\n",
            "even\n",
            "odd\n",
            "even\n"
          ]
        }
      ]
    },
    {
      "cell_type": "markdown",
      "source": [
        "2 point of views:\n",
        "* Senior creates a function\n",
        "* Junior uses that function\n",
        "\n",
        "Scenario:\n",
        "\n",
        "Usually, those who makes a function s/he needs to be conscisous not to make a function reusablity wrongly.\n",
        "Suppose, senior made a __function is_even(num)__ and junior staff call that function using: __is_even('suresh')__. Then this is going to be headache for the junior as the senior who made a function has not implemented a proper strategy to properly make that function workable.\n",
        "\n",
        "The other option is to use try and catch method (later)\n",
        "\n",
        "\n"
      ],
      "metadata": {
        "id": "tpFGUAk8Le9I"
      }
    },
    {
      "cell_type": "code",
      "source": [
        "# Above case scenario can be made correct by\n",
        "\n",
        "def is_even(num):\n",
        "  if type(num) == int:\n",
        "    if num % 2 == 0:\n",
        "      return 'even'\n",
        "    else:\n",
        "      return 'odd'\n",
        "  else:\n",
        "    return 'Please enter an integer'\n",
        "\n",
        "\n",
        "#function call\n",
        "\n",
        "is_even(\"suresh\")"
      ],
      "metadata": {
        "colab": {
          "base_uri": "https://localhost:8080/",
          "height": 36
        },
        "id": "CgElMXGKGFHJ",
        "outputId": "821d6f01-e5b2-482e-ff03-860fe9b5557b"
      },
      "execution_count": null,
      "outputs": [
        {
          "output_type": "execute_result",
          "data": {
            "text/plain": [
              "'Please enter an integer'"
            ],
            "application/vnd.google.colaboratory.intrinsic+json": {
              "type": "string"
            }
          },
          "metadata": {},
          "execution_count": 7
        }
      ]
    },
    {
      "cell_type": "markdown",
      "source": [
        "# Parameters Vs Arguments\n",
        "\n",
        "__Parameters__ are values enclosed inside a parenthesis at function creation time.\n",
        "__Arguments__ are those values which are used during function call.\n",
        "\n",
        "Types of Arguments:\n",
        "* Default Argument\n",
        "* Positional Argument\n",
        "* Keyword Argument"
      ],
      "metadata": {
        "id": "MxsCkPuQQepn"
      }
    },
    {
      "cell_type": "code",
      "source": [
        "# such as:\n",
        "def power(a, b):\n",
        "  return a*b\n",
        "\n",
        "power(2, 3)"
      ],
      "metadata": {
        "colab": {
          "base_uri": "https://localhost:8080/"
        },
        "id": "qxYKZFkaGE_S",
        "outputId": "2abccbee-594b-4332-de69-d82dd9dd3464"
      },
      "execution_count": null,
      "outputs": [
        {
          "output_type": "execute_result",
          "data": {
            "text/plain": [
              "6"
            ]
          },
          "metadata": {},
          "execution_count": 8
        }
      ]
    },
    {
      "cell_type": "code",
      "source": [
        "# if we give not appropriate arguments while calling, it will be problematic\n",
        "power(2)"
      ],
      "metadata": {
        "colab": {
          "base_uri": "https://localhost:8080/",
          "height": 163
        },
        "id": "yct-oBsDGE3r",
        "outputId": "f2f02006-4940-42be-e688-958d09619da1"
      },
      "execution_count": null,
      "outputs": [
        {
          "output_type": "error",
          "ename": "TypeError",
          "evalue": "power() missing 1 required positional argument: 'b'",
          "traceback": [
            "\u001b[0;31m---------------------------------------------------------------------------\u001b[0m",
            "\u001b[0;31mTypeError\u001b[0m                                 Traceback (most recent call last)",
            "\u001b[0;32m<ipython-input-9-437386daa52b>\u001b[0m in \u001b[0;36m<cell line: 2>\u001b[0;34m()\u001b[0m\n\u001b[1;32m      1\u001b[0m \u001b[0;31m# if we give not appropriate arguments while calling, it will be problematic\u001b[0m\u001b[0;34m\u001b[0m\u001b[0;34m\u001b[0m\u001b[0m\n\u001b[0;32m----> 2\u001b[0;31m \u001b[0mpower\u001b[0m\u001b[0;34m(\u001b[0m\u001b[0;36m2\u001b[0m\u001b[0;34m)\u001b[0m\u001b[0;34m\u001b[0m\u001b[0;34m\u001b[0m\u001b[0m\n\u001b[0m",
            "\u001b[0;31mTypeError\u001b[0m: power() missing 1 required positional argument: 'b'"
          ]
        }
      ]
    },
    {
      "cell_type": "code",
      "source": [
        "# Therefore, in above scenario, we can use default argument by assigning value in the parameter directly, if somehow junior\n",
        "# programmer doesn't call the function with proper argument\n",
        "\n",
        "def power(a, b =2):\n",
        "  return a **b\n",
        "\n",
        "power(2)\n"
      ],
      "metadata": {
        "colab": {
          "base_uri": "https://localhost:8080/"
        },
        "id": "8kXe-ooZGEvy",
        "outputId": "c970e1bb-45a6-4fcb-ab76-3e3e29cad50d"
      },
      "execution_count": null,
      "outputs": [
        {
          "output_type": "execute_result",
          "data": {
            "text/plain": [
              "4"
            ]
          },
          "metadata": {},
          "execution_count": 14
        }
      ]
    },
    {
      "cell_type": "code",
      "source": [
        "# if we call with new value, then it gives output according to new argument\n",
        "power(2, 4)"
      ],
      "metadata": {
        "colab": {
          "base_uri": "https://localhost:8080/"
        },
        "id": "rxHRiKsFGEme",
        "outputId": "ebe89892-d2f4-440c-f303-380c6da9f838"
      },
      "execution_count": null,
      "outputs": [
        {
          "output_type": "execute_result",
          "data": {
            "text/plain": [
              "16"
            ]
          },
          "metadata": {},
          "execution_count": 15
        }
      ]
    },
    {
      "cell_type": "markdown",
      "source": [
        "__Positional Arguments__\n",
        "\n",
        "It's not completely new, it is just a default arguments, which aligns the position of arguments while creating and using."
      ],
      "metadata": {
        "id": "QKB0ovrkWRuB"
      }
    },
    {
      "cell_type": "code",
      "source": [
        "power(2, 3)"
      ],
      "metadata": {
        "colab": {
          "base_uri": "https://localhost:8080/"
        },
        "id": "1OGECZf7GEfE",
        "outputId": "d858d93c-549e-4cff-c9e3-7af694f5cb16"
      },
      "execution_count": null,
      "outputs": [
        {
          "output_type": "execute_result",
          "data": {
            "text/plain": [
              "8"
            ]
          },
          "metadata": {},
          "execution_count": 16
        }
      ]
    },
    {
      "cell_type": "code",
      "source": [
        "power(3, 2)\n",
        "\n",
        "#keyword argument\n",
        "power(b = 3, a = 2)"
      ],
      "metadata": {
        "colab": {
          "base_uri": "https://localhost:8080/"
        },
        "id": "2EKqwdmHGEYw",
        "outputId": "63765c53-f312-4338-cac1-4fd975c58c8d"
      },
      "execution_count": null,
      "outputs": [
        {
          "output_type": "execute_result",
          "data": {
            "text/plain": [
              "8"
            ]
          },
          "metadata": {},
          "execution_count": 18
        }
      ]
    },
    {
      "cell_type": "markdown",
      "source": [
        "__* args and **kwargs__ **bold text**__\n",
        "\n",
        "* are special python keywords that are used to pass the variable length of arguments to a function."
      ],
      "metadata": {
        "id": "yhYhnUmLXVkH"
      }
    },
    {
      "cell_type": "code",
      "source": [
        "# allows us to a pass a variable number of non-keyword arguments to a function.\n",
        "\n",
        "#first simple:\n",
        "def multiply(a, b):\n",
        "  return a*b\n",
        "\n",
        "multiply(2, 3)"
      ],
      "metadata": {
        "colab": {
          "base_uri": "https://localhost:8080/"
        },
        "id": "CLDYHn75XJEk",
        "outputId": "b53bfacd-7a3e-482c-de79-c40549bd5e0a"
      },
      "execution_count": null,
      "outputs": [
        {
          "output_type": "execute_result",
          "data": {
            "text/plain": [
              "6"
            ]
          },
          "metadata": {},
          "execution_count": 19
        }
      ]
    },
    {
      "cell_type": "code",
      "source": [
        "#Now, if we need three numbers, we do\n",
        "def multiply(a, b, c):\n",
        "  return a*b*c\n",
        "\n",
        "multiply(2, 3, 4)"
      ],
      "metadata": {
        "colab": {
          "base_uri": "https://localhost:8080/"
        },
        "id": "JrpmOnkmGESO",
        "outputId": "1a9b8407-002e-409d-91ce-3faa192f860e"
      },
      "execution_count": null,
      "outputs": [
        {
          "output_type": "execute_result",
          "data": {
            "text/plain": [
              "24"
            ]
          },
          "metadata": {},
          "execution_count": 20
        }
      ]
    },
    {
      "cell_type": "markdown",
      "source": [
        "* it is not possible everytime to add arguments. So, the concept to use *args\n",
        "* this is interesting: this * conversts all the values in a __tuple.__"
      ],
      "metadata": {
        "id": "znE--lCpdmCk"
      }
    },
    {
      "cell_type": "code",
      "source": [
        "# it is not possible everytime to add arguments. So, the concept to use *args\n",
        "# this is interesting: this * conversts all the values in a tuple.\n",
        "def multiply(*args):\n",
        "  product = 1\n",
        "\n",
        "  for i in args:\n",
        "    product *=  i\n",
        "  print(args)\n",
        "  return product\n",
        "\n",
        "multiply(2, 3, 4)"
      ],
      "metadata": {
        "colab": {
          "base_uri": "https://localhost:8080/"
        },
        "id": "RhiR8EMtGEKi",
        "outputId": "0805d81f-8b99-4289-d6f1-6516cdbd4798"
      },
      "execution_count": null,
      "outputs": [
        {
          "output_type": "stream",
          "name": "stdout",
          "text": [
            "(2, 3, 4)\n"
          ]
        },
        {
          "output_type": "execute_result",
          "data": {
            "text/plain": [
              "24"
            ]
          },
          "metadata": {},
          "execution_count": 31
        }
      ]
    },
    {
      "cell_type": "code",
      "source": [
        "multiply(23, 4, 1, 0)"
      ],
      "metadata": {
        "colab": {
          "base_uri": "https://localhost:8080/"
        },
        "id": "EBmRIZ6pGECo",
        "outputId": "4d8909a5-cc4a-45b4-fd43-08b060a33674"
      },
      "execution_count": null,
      "outputs": [
        {
          "output_type": "stream",
          "name": "stdout",
          "text": [
            "(23, 4, 1, 0)\n"
          ]
        },
        {
          "output_type": "execute_result",
          "data": {
            "text/plain": [
              "0"
            ]
          },
          "metadata": {},
          "execution_count": 26
        }
      ]
    },
    {
      "cell_type": "code",
      "source": [
        "print(is_even.__doc__)"
      ],
      "metadata": {
        "colab": {
          "base_uri": "https://localhost:8080/"
        },
        "id": "55ctSnNWGD60",
        "outputId": "a538eb0c-b4b2-4506-d45f-003f757709fd"
      },
      "execution_count": null,
      "outputs": [
        {
          "output_type": "stream",
          "name": "stdout",
          "text": [
            "None\n"
          ]
        }
      ]
    },
    {
      "cell_type": "markdown",
      "source": [
        "# Kwargs\n",
        "\n",
        "* **kwargs allows us to pass any number of keyword arguments.\n",
        "* Keyword arguments mean that they contain a key: value pair, as dictionary. It will return the value as dictionary.\n",
        "\n",
        "\n"
      ],
      "metadata": {
        "id": "xwJg46mHYzd9"
      }
    },
    {
      "cell_type": "code",
      "source": [
        "from os import name\n",
        "def display(**kwargs):\n",
        "  for (key,value) in kwargs.items():\n",
        "    print(key, '->', value)\n",
        "\n",
        "display(f_name = 'Suresh', l_name = 'Ghatani', Age = 34)"
      ],
      "metadata": {
        "id": "NMbhAaMsGD0S",
        "colab": {
          "base_uri": "https://localhost:8080/"
        },
        "outputId": "5a1091c0-b3e8-4d1e-918b-1686ccac2e29"
      },
      "execution_count": 1,
      "outputs": [
        {
          "output_type": "stream",
          "name": "stdout",
          "text": [
            "f_name -> Suresh\n",
            "l_name -> Ghatani\n",
            "Age -> 34\n"
          ]
        }
      ]
    },
    {
      "cell_type": "markdown",
      "source": [
        "Order of the arguments while using *args and **kwargs:\n",
        "* normal ->* args -> ** kwargs\n",
        "* (* args and ** kwargs) are only a convention, we can use any name of our choices."
      ],
      "metadata": {
        "id": "XI-7x4hUdtiV"
      }
    },
    {
      "cell_type": "markdown",
      "source": [
        "# Without return Statement\n",
        "\n",
        "If there is no return statement, it will return None.\n"
      ],
      "metadata": {
        "id": "DH72wupigjDf"
      }
    },
    {
      "cell_type": "code",
      "source": [
        "def is_even(num):\n",
        "  if num % 2 == 0:\n",
        "    print('even')\n",
        "  else:\n",
        "    print('odd')\n",
        "\n",
        "is_even(100)"
      ],
      "metadata": {
        "id": "QibGuuEvGC8t",
        "colab": {
          "base_uri": "https://localhost:8080/"
        },
        "outputId": "6943de09-9410-482f-d2b5-93028865487f"
      },
      "execution_count": 4,
      "outputs": [
        {
          "output_type": "stream",
          "name": "stdout",
          "text": [
            "even\n"
          ]
        }
      ]
    },
    {
      "cell_type": "markdown",
      "source": [
        "If we visulize above code in Python tutor, there we can see the return values are:\n",
        "\n",
        "even\n",
        "\n",
        "None\n",
        "\n",
        "So, by defualt it will return None value also.\n",
        "\n"
      ],
      "metadata": {
        "id": "FlPvbgTqh15y"
      }
    },
    {
      "cell_type": "code",
      "source": [
        "# simple mistake that can be analyse using list function\n",
        "\n",
        "L = [2, 4, 1]\n",
        "print(L.append(5))"
      ],
      "metadata": {
        "id": "SR0y1NHCGCm8",
        "colab": {
          "base_uri": "https://localhost:8080/"
        },
        "outputId": "fef992a5-8625-49b8-b343-bc4e83fb91cc"
      },
      "execution_count": 5,
      "outputs": [
        {
          "output_type": "stream",
          "name": "stdout",
          "text": [
            "None\n"
          ]
        }
      ]
    },
    {
      "cell_type": "markdown",
      "source": [
        "Appending 5 in the list and not using any print function, we get None printed. So, we have to use print() function."
      ],
      "metadata": {
        "id": "NwC8DprHiTnC"
      }
    },
    {
      "cell_type": "code",
      "execution_count": 6,
      "metadata": {
        "id": "XhpBjp_gFw9c",
        "colab": {
          "base_uri": "https://localhost:8080/"
        },
        "outputId": "a7cd86f1-2fe5-4b68-e296-a64cd33c4d02"
      },
      "outputs": [
        {
          "output_type": "stream",
          "name": "stdout",
          "text": [
            "[2, 4, 1, 5]\n"
          ]
        }
      ],
      "source": [
        "print(L)"
      ]
    },
    {
      "cell_type": "markdown",
      "source": [
        "## Variable Scope\n",
        "* local variable\n",
        "* Global Variable\n"
      ],
      "metadata": {
        "id": "zXbPP8Pajv5n"
      }
    },
    {
      "cell_type": "code",
      "source": [
        "def g(y):\n",
        "  print(x)\n",
        "  print(x+1)\n",
        "\n",
        "x = 5\n",
        "g(x)\n",
        "print(x)"
      ],
      "metadata": {
        "colab": {
          "base_uri": "https://localhost:8080/"
        },
        "id": "scJ5Y5oYif4D",
        "outputId": "1aa75415-230d-4b66-b210-13d6c1cae307"
      },
      "execution_count": 9,
      "outputs": [
        {
          "output_type": "stream",
          "name": "stdout",
          "text": [
            "5\n",
            "6\n",
            "5\n"
          ]
        }
      ]
    },
    {
      "cell_type": "code",
      "source": [
        "# prompt: Global variable and local variable\n",
        "\n",
        "x = 50  # Global variable\n",
        "\n",
        "def func():\n",
        "  x = 2  # Local variable\n",
        "  print(\"Value of x inside the function:\", x)\n",
        "\n",
        "func()\n",
        "print(\"Value of x outside the function:\", x)\n"
      ],
      "metadata": {
        "colab": {
          "base_uri": "https://localhost:8080/"
        },
        "id": "2TpeaNWUigJS",
        "outputId": "29da8d84-f4aa-4bdf-b9fa-13775c402d07"
      },
      "execution_count": 10,
      "outputs": [
        {
          "output_type": "stream",
          "name": "stdout",
          "text": [
            "Value of x inside the function: 2\n",
            "Value of x outside the function: 50\n"
          ]
        }
      ]
    },
    {
      "cell_type": "code",
      "source": [
        "# prompt: Global variable and local variable\n",
        "\n",
        "x = 50  # Global variable\n",
        "\n",
        "def func():\n",
        "  #if we want to use global variable inside the function and change the value of x\n",
        "  # inside the function, then declare global variable inside a function\n",
        "  global x # by doing so, x value will be change from 50 to 2\n",
        "  x = 2  # Local variable\n",
        "  print(\"Value of x inside the function:\", x)\n",
        "\n",
        "func()\n",
        "print(\"Value of x outside the function:\", x)\n"
      ],
      "metadata": {
        "colab": {
          "base_uri": "https://localhost:8080/"
        },
        "id": "-1-sw8QZigUp",
        "outputId": "d1eb48cc-4b55-46b5-859c-20a5fdfd61b8"
      },
      "execution_count": 11,
      "outputs": [
        {
          "output_type": "stream",
          "name": "stdout",
          "text": [
            "Value of x inside the function: 2\n",
            "Value of x outside the function: 2\n"
          ]
        }
      ]
    },
    {
      "cell_type": "code",
      "source": [
        "# what if we don't use global\n",
        "def h(y):\n",
        "  x += 1\n",
        "\n",
        "x = 5\n",
        "h(x)\n",
        "print(x)"
      ],
      "metadata": {
        "colab": {
          "base_uri": "https://localhost:8080/",
          "height": 324
        },
        "id": "oGeTuR8Wigf0",
        "outputId": "61d0a428-ac65-4b52-9110-ad4601a4a020"
      },
      "execution_count": 12,
      "outputs": [
        {
          "output_type": "error",
          "ename": "UnboundLocalError",
          "evalue": "local variable 'x' referenced before assignment",
          "traceback": [
            "\u001b[0;31m---------------------------------------------------------------------------\u001b[0m",
            "\u001b[0;31mUnboundLocalError\u001b[0m                         Traceback (most recent call last)",
            "\u001b[0;32m<ipython-input-12-1ff9587d736c>\u001b[0m in \u001b[0;36m<cell line: 6>\u001b[0;34m()\u001b[0m\n\u001b[1;32m      4\u001b[0m \u001b[0;34m\u001b[0m\u001b[0m\n\u001b[1;32m      5\u001b[0m \u001b[0mx\u001b[0m \u001b[0;34m=\u001b[0m \u001b[0;36m5\u001b[0m\u001b[0;34m\u001b[0m\u001b[0;34m\u001b[0m\u001b[0m\n\u001b[0;32m----> 6\u001b[0;31m \u001b[0mh\u001b[0m\u001b[0;34m(\u001b[0m\u001b[0mx\u001b[0m\u001b[0;34m)\u001b[0m\u001b[0;34m\u001b[0m\u001b[0;34m\u001b[0m\u001b[0m\n\u001b[0m\u001b[1;32m      7\u001b[0m \u001b[0mprint\u001b[0m\u001b[0;34m(\u001b[0m\u001b[0mx\u001b[0m\u001b[0;34m)\u001b[0m\u001b[0;34m\u001b[0m\u001b[0;34m\u001b[0m\u001b[0m\n",
            "\u001b[0;32m<ipython-input-12-1ff9587d736c>\u001b[0m in \u001b[0;36mh\u001b[0;34m(y)\u001b[0m\n\u001b[1;32m      1\u001b[0m \u001b[0;31m# what if we don't use global\u001b[0m\u001b[0;34m\u001b[0m\u001b[0;34m\u001b[0m\u001b[0m\n\u001b[1;32m      2\u001b[0m \u001b[0;32mdef\u001b[0m \u001b[0mh\u001b[0m\u001b[0;34m(\u001b[0m\u001b[0my\u001b[0m\u001b[0;34m)\u001b[0m\u001b[0;34m:\u001b[0m\u001b[0;34m\u001b[0m\u001b[0;34m\u001b[0m\u001b[0m\n\u001b[0;32m----> 3\u001b[0;31m   \u001b[0mx\u001b[0m \u001b[0;34m+=\u001b[0m \u001b[0;36m1\u001b[0m\u001b[0;34m\u001b[0m\u001b[0;34m\u001b[0m\u001b[0m\n\u001b[0m\u001b[1;32m      4\u001b[0m \u001b[0;34m\u001b[0m\u001b[0m\n\u001b[1;32m      5\u001b[0m \u001b[0mx\u001b[0m \u001b[0;34m=\u001b[0m \u001b[0;36m5\u001b[0m\u001b[0;34m\u001b[0m\u001b[0;34m\u001b[0m\u001b[0m\n",
            "\u001b[0;31mUnboundLocalError\u001b[0m: local variable 'x' referenced before assignment"
          ]
        }
      ]
    },
    {
      "cell_type": "markdown",
      "source": [
        "This original value can't be changed without using global. However, we are not encouraged to follow this coding pattern."
      ],
      "metadata": {
        "id": "dzrgKY-TqPC5"
      }
    },
    {
      "cell_type": "code",
      "source": [
        "# other nice example:\n",
        "def f(x):\n",
        "  x += 1\n",
        "  print('inside value of x:', x)\n",
        "  return x\n",
        "\n",
        "x = 4\n",
        "z=f(x)\n",
        "print(z)\n",
        "print(x)"
      ],
      "metadata": {
        "colab": {
          "base_uri": "https://localhost:8080/"
        },
        "id": "G9b4-w1ligt0",
        "outputId": "520bedcf-44f5-46d3-be9a-49802c3e8f12"
      },
      "execution_count": 14,
      "outputs": [
        {
          "output_type": "stream",
          "name": "stdout",
          "text": [
            "inside value of x: 5\n",
            "5\n",
            "4\n"
          ]
        }
      ]
    },
    {
      "cell_type": "markdown",
      "source": [],
      "metadata": {
        "id": "oz2aZmrgtCDb"
      }
    },
    {
      "cell_type": "markdown",
      "source": [
        "## Nested function:\n",
        "\n",
        "Function within function\n"
      ],
      "metadata": {
        "id": "1zJQgv2ttCH7"
      }
    },
    {
      "cell_type": "code",
      "source": [
        "def outer():\n",
        "  def inner():\n",
        "    print(\"inner function\")\n",
        "  inner()\n",
        "  print(\"outer function\")\n",
        "\n",
        "outer()"
      ],
      "metadata": {
        "colab": {
          "base_uri": "https://localhost:8080/"
        },
        "id": "vdCHDJc_sKSP",
        "outputId": "cbc7d7d6-00d5-4649-825d-2375378922dd"
      },
      "execution_count": 17,
      "outputs": [
        {
          "output_type": "stream",
          "name": "stdout",
          "text": [
            "inner function\n",
            "outer function\n"
          ]
        }
      ]
    },
    {
      "cell_type": "code",
      "source": [],
      "metadata": {
        "id": "sfFeTjODtGBE"
      },
      "execution_count": null,
      "outputs": []
    },
    {
      "cell_type": "code",
      "source": [],
      "metadata": {
        "id": "UfvWHkuTtGZX"
      },
      "execution_count": null,
      "outputs": []
    },
    {
      "cell_type": "code",
      "source": [],
      "metadata": {
        "id": "PRbAYodAtGc1"
      },
      "execution_count": null,
      "outputs": []
    },
    {
      "cell_type": "code",
      "source": [],
      "metadata": {
        "id": "Nfkm-FVKtGmz"
      },
      "execution_count": null,
      "outputs": []
    },
    {
      "cell_type": "code",
      "source": [],
      "metadata": {
        "id": "7GNRCVLttGvT"
      },
      "execution_count": null,
      "outputs": []
    },
    {
      "cell_type": "code",
      "source": [],
      "metadata": {
        "id": "lRjRBW6etG3P"
      },
      "execution_count": null,
      "outputs": []
    },
    {
      "cell_type": "code",
      "source": [],
      "metadata": {
        "id": "cXga6zlhtG8X"
      },
      "execution_count": null,
      "outputs": []
    },
    {
      "cell_type": "code",
      "source": [],
      "metadata": {
        "id": "Y0OmTRHLtHAA"
      },
      "execution_count": null,
      "outputs": []
    },
    {
      "cell_type": "code",
      "source": [],
      "metadata": {
        "id": "gEpZRSeptHDc"
      },
      "execution_count": null,
      "outputs": []
    },
    {
      "cell_type": "code",
      "source": [],
      "metadata": {
        "id": "HzqZ4IuntHHY"
      },
      "execution_count": null,
      "outputs": []
    }
  ]
}